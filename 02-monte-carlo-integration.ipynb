{
 "cells": [
  {
   "cell_type": "code",
   "execution_count": 1,
   "metadata": {},
   "outputs": [],
   "source": [
    "import numpy as np\n",
    "\n",
    "rng = np.random.default_rng(seed=12345) # seed of pseudorandom number generators"
   ]
  },
  {
   "cell_type": "markdown",
   "metadata": {},
   "source": [
    "# Monte Carlo Integration"
   ]
  },
  {
   "cell_type": "markdown",
   "metadata": {},
   "source": [
    "## Using random numbers to evaluate integrals"
   ]
  },
  {
   "cell_type": "markdown",
   "metadata": {},
   "source": [
    "### Evaluate the integral\n",
    "\n",
    "$$I = \\int_0^1 xe^{-x}dx = 1 - 2e^{-1} \\approx 0,26424.$$"
   ]
  },
  {
   "cell_type": "code",
   "execution_count": 2,
   "metadata": {},
   "outputs": [
    {
     "name": "stdout",
     "output_type": "stream",
     "text": [
      "I = 0.26439654861073847 +/- 0.00047\n"
     ]
    }
   ],
   "source": [
    "# Define the function to integrate\n",
    "f = lambda x: x * np.exp(-x)\n",
    "\n",
    "# Number of samples\n",
    "n = 50000\n",
    "\n",
    "# Initialize sum variables\n",
    "f1 = 0.0\n",
    "f2 = 0.0\n",
    "\n",
    "# Perform Monte Carlo integration\n",
    "for i in range(n):\n",
    "    x = rng.uniform()  # Generate a random number in [0, 1)\n",
    "    s = f(x)           # Evaluate the function at x\n",
    "    f1 += s            # Accumulate the function values\n",
    "    f2 += s * s        # Accumulate the squared function values\n",
    "\n",
    "# Calculate the mean of the function values\n",
    "f1 /= n\n",
    "# Calculate the mean of the squared function values\n",
    "f2 /= n\n",
    "\n",
    "# Integral estimate\n",
    "I = f1\n",
    "# Standard deviation of the estimate\n",
    "sigma = np.sqrt((f2 - f1 * f1) / n)\n",
    "\n",
    "# Print the result\n",
    "print(f\"I = {I} +/- {sigma:.5f}\")"
   ]
  },
  {
   "cell_type": "markdown",
   "metadata": {},
   "source": [
    "## Multidimensional Integrals"
   ]
  },
  {
   "cell_type": "markdown",
   "metadata": {},
   "source": [
    "### The estimation of $\\pi$"
   ]
  },
  {
   "cell_type": "code",
   "execution_count": 3,
   "metadata": {},
   "outputs": [
    {
     "name": "stdout",
     "output_type": "stream",
     "text": [
      "Unit circle area = pi = 3.14236 +/- 0.005191352068970086.\n"
     ]
    }
   ],
   "source": [
    "n = 100000 \n",
    "ni = 0 \n",
    "\n",
    "for i in range(n):\n",
    "    x = rng.uniform(); y = rng.uniform() \n",
    "    if (x*x + y*y <= 1e0): \n",
    "        ni += 1 \n",
    "\n",
    "fi = ni/n \n",
    "s = 4e0 * fi \n",
    "sigma = 4e0 * np.sqrt((fi - fi*fi)/n) \n",
    "print(f\"Unit circle area = pi = {s} +/- {sigma}.\")"
   ]
  },
  {
   "cell_type": "code",
   "execution_count": null,
   "metadata": {},
   "outputs": [],
   "source": []
  }
 ],
 "metadata": {
  "kernelspec": {
   "display_name": "base",
   "language": "python",
   "name": "python3"
  },
  "language_info": {
   "codemirror_mode": {
    "name": "ipython",
    "version": 3
   },
   "file_extension": ".py",
   "mimetype": "text/x-python",
   "name": "python",
   "nbconvert_exporter": "python",
   "pygments_lexer": "ipython3",
   "version": "3.11.5"
  }
 },
 "nbformat": 4,
 "nbformat_minor": 2
}
