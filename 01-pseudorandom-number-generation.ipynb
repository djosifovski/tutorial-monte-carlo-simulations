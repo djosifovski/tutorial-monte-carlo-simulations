{
 "cells": [
  {
   "cell_type": "code",
   "execution_count": 1,
   "metadata": {},
   "outputs": [],
   "source": [
    "import numpy as np\n",
    "import matplotlib.pyplot as plt"
   ]
  },
  {
   "cell_type": "markdown",
   "metadata": {},
   "source": [
    "# Pseudorandom number generation"
   ]
  },
  {
   "cell_type": "markdown",
   "metadata": {},
   "source": [
    "## Middle-square method\n",
    "\n",
    "Initially scientists relied on drawing balls from pots, rolling dice, or drawing cards, and later used mechanical devices for random number generation. However, these methods proved inadequate for their purposes. This led to the interest in using computer programs to generate random numbers. In 1946, John von Neumann proposed a concept known as the middle-square method.\n",
    "\n",
    "Von Neumann's algorithm works by squaring a previously generated random number and taking the middle digits from the result. For example, if we start with a four-digit number like $8561$, squaring it gives $73290721$, and the next random number will be $2907$, extracted from the middle of the squared result.\n",
    "\n",
    "The middle-square method, however, proved to be ineffective because it often got stuck in short cycles of repeating numbers. For instance, if a zero appears in the sequence, it will repeat indefinitely, but this issue can also occur with other numbers.\n",
    "\n",
    "To generate a sequence of $n$-digit random numbers, one starts with an $n$-digit seed number, which is squared to produce a $2n$-digit number. If the result has fewer than $2n$ digits, leading zeros are added. The middle $n$ digits of the result form the next number in the sequence. These steps are repeated to generate new numbers. Although the method generates random numbers with the same number of digits, it faces issues if the middle digits start with zero, resulting in fewer digits for the next number. Additionally, this method is unsuitable for numbers with an odd number of digits, as there is no clear middle in a number with an even number of digits.\n",
    "\n",
    "Below is the code for generating random numbers using a four-digit seed, stopping the loop when a repeating number is detected:"
   ]
  },
  {
   "cell_type": "code",
   "execution_count": 2,
   "metadata": {},
   "outputs": [
    {
     "name": "stdout",
     "output_type": "stream",
     "text": [
      "#1: 5227\n",
      "#2: 3215\n",
      "#3: 3362\n",
      "#4: 3030\n",
      "#5: 1809\n",
      "#6: 2724\n",
      "#7: 4201\n",
      "#8: 6484\n",
      "#9: 422\n",
      "#10: 1780\n",
      "#11: 1684\n",
      "#12: 8358\n",
      "#13: 8561\n",
      "#14: 2907\n",
      "#15: 4506\n",
      "#16: 3040\n",
      "#17: 2416\n",
      "#18: 8370\n",
      "#19: 569\n",
      "#20: 3237\n",
      "#21: 4781\n",
      "#22: 8579\n",
      "#23: 5992\n",
      "#24: 9040\n",
      "#25: 7216\n",
      "#26: 706\n",
      "#27: 4984\n",
      "#28: 8402\n",
      "#29: 5936\n",
      "#30: 2360\n",
      "#31: 5696\n",
      "#32: 4444\n",
      "#33: 7491\n",
      "#34: 1150\n",
      "#35: 3225\n",
      "#36: 4006\n",
      "#37: 480\n",
      "#38: 2304\n",
      "#39: 3084\n",
      "#40: 5110\n",
      "#41: 1121\n",
      "#42: 2566\n",
      "#43: 5843\n",
      "#44: 1406\n",
      "#45: 9768\n",
      "#46: 4138\n",
      "#47: 1230\n",
      "#48: 5129\n",
      "#49: 3066\n",
      "#50: 4003\n",
      "#51: 240\n",
      "#52: 576\n",
      "#53: 3317\n",
      "#54: 24\n",
      "#55: 5\n",
      "#56: 0\n",
      "#57: 0\n",
      "We began with 1234 and have repeated ourselves after 57 steps with 0.\n"
     ]
    }
   ],
   "source": [
    "def middle_square(seed_number):\n",
    "    # via https://en.wikipedia.org/wiki/Middle-square_method#Example_implementation\n",
    "    \"\"\"\n",
    "    Middle Square Method for pseudo-random number generation.\n",
    "    \n",
    "    Parameters:\n",
    "        seed_number (int): The initial seed number.\n",
    "        \n",
    "    Returns:\n",
    "        tuple: Tuple containing the number of steps until repetition and the repeated number.\n",
    "    \"\"\"\n",
    "    digits = len(str(seed_number))  # Determine the number of digits in the seed\n",
    "    idx = digits // 2  # Calculate the index for extracting digits from the middle\n",
    "\n",
    "    number = seed_number  # Initialize the seed number\n",
    "    already_seen = set()  # Set to store seen numbers to detect repetition\n",
    "    counter = 0  # Counter for the number of steps\n",
    "\n",
    "    while number not in already_seen:\n",
    "        counter += 1  # Increment the step counter\n",
    "        already_seen.add(number)  # Add the current number to the set of seen numbers\n",
    "        \n",
    "        # Perform the middle square method\n",
    "        number = int(str(number * number).zfill(2 * digits)[idx:-idx]) # zfill adds leading zeros\n",
    "\n",
    "        print(f\"#{counter}: {number}\") # Print the\n",
    "\n",
    "    return counter, number  # Return the number of steps and the repeated number\n",
    "\n",
    "# Example usage\n",
    "seed_number = 1234\n",
    "steps, repeated_number = middle_square(seed_number)\n",
    "\n",
    "# Output the result\n",
    "print(f\"We began with {seed_number} and have repeated ourselves after {steps} steps with {repeated_number}.\")\n"
   ]
  },
  {
   "cell_type": "markdown",
   "metadata": {},
   "source": [
    "## Multiplicative Congruential Generator\n",
    "\n",
    "A multiplicative congruential generator (Lehmer generator), introduced by the mathematician D. H. Lehmer in 1949, is a generator of random numbers from a uniform distribution, that is, each number has the same probability of appearing from the defined area. The random numbers $x_{j}$ are obtained by the recurrence formula:\n",
    "\n",
    "$$x_{j+1} = a\\cdot x_{j}\\mod m, \\qquad j \\geq 0,$$\n",
    "\n",
    "where we have the magic integers:\n",
    "\n",
    "- $m$, modulus; $0 < m$.\n",
    "- $a$, multiplier; $0 \\leq a < m$.\n",
    "- $x_{0}$, start value (seed); $0 \\leq x_{0} < m$.\n",
    "\n",
    "The modulus is usually a large number because it determines the period of the sequence of random numbers, that is, the number of iterations the sequence will repeat. To generate real numbers from the unit interval $[0,1)$ we use the fractions $x_{j+1}/m$ [2].\n",
    "\n",
    "Park and Miller [3] give the recommended values ​​for the parameters $m = 2^{31}-1 = 2147483647$ and $a = 7^5 = 16807$. A multiplicative congruential generator is implemented with the program code.\n",
    "\n",
    "As our starting point in the computer simulation of systems, we suppose that we can generate a sequence of pseudorandom numbers which can be taken as an approximation to the values of a sequence of independent uniform $[0, 1)$ random variables."
   ]
  },
  {
   "cell_type": "code",
   "execution_count": 3,
   "metadata": {},
   "outputs": [],
   "source": [
    "def mcg(seed: int = 123456, size: int = 10000) -> np.ndarray:\n",
    "    \"\"\"\n",
    "    Multiplicative congruential generator (MCG) for generating pseudorandom numbers in the unit interval [0, 1).\n",
    "\n",
    "    Args:\n",
    "        seed (int, optional): Seed value for the generator. Defaults to 123456.\n",
    "        size (int, optional): Number of samples to be generated. Defaults to 10000.\n",
    "\n",
    "    Returns:\n",
    "        np.ndarray: Array of generated numbers in the interval [0, 1)\n",
    "    \"\"\"\n",
    "    m = 2147483647  # Modulus\n",
    "    a = 16807  # Multiplier\n",
    "\n",
    "    # Define the generator function using lambda\n",
    "    f = lambda seed: (a * seed) % m\n",
    "\n",
    "    samples = []\n",
    "    current_seed = seed  # Initialize the seed value\n",
    "    for _ in range(size):\n",
    "        current_seed = f(current_seed)\n",
    "        normalized_value = current_seed / m  # Normalize to the interval [0, 1)\n",
    "        samples.append(normalized_value)\n",
    "\n",
    "    return np.asarray(samples)\n",
    "\n",
    "    return samples\n",
    "\n",
    "# Generate pseudorandom numbers using MCG\n",
    "samples = mcg()"
   ]
  },
  {
   "cell_type": "code",
   "execution_count": 4,
   "metadata": {},
   "outputs": [
    {
     "data": {
      "image/png": "[encoded data removed]",
      "text/plain": [
       "<Figure size 800x600 with 1 Axes>"
      ]
     },
     "metadata": {},
     "output_type": "display_data"
    }
   ],
   "source": [
    "# Plot a histogram of the generated samples\n",
    "plt.figure(figsize=(8, 6))\n",
    "plt.hist(samples, bins=20, density=True, alpha=0.75, color='blue')\n",
    "plt.title('Histogram of MCG Generated Samples')\n",
    "plt.xlabel('Value')\n",
    "plt.ylabel('Frequency')\n",
    "plt.grid(True)\n",
    "plt.show()"
   ]
  },
  {
   "cell_type": "markdown",
   "metadata": {},
   "source": [
    "## Linear Congruential Generator\n",
    "\n",
    "One of the most famous generators used today are linear congruential generators. They are defined by the recurrence relation:\n",
    "\n",
    "$$x_{j+1} = (a\\cdot x_{j} + c)\\mod m, \\qquad j \\geq 0,$$\n",
    "\n",
    "where we have the magic integers:\n",
    "\n",
    "- $m$, modulus; $0 < m$.\n",
    "- $a$, multiplier; $0 \\leq a < m$.\n",
    "- $c$, increment; $0 \\leq c < m$.\n",
    "- $x_{0}$, start value (seed); $0 \\leq x_{0} < m$.\n",
    "\n",
    "In his paper Lehmer mentioned that there is a possibility $c \\neq 0$. The linear congruential generator is slightly faster in generating numbers when $c = 0$, that is, when it turns into a multiplicative congruential generator [2].\n",
    "\n",
    "Linear congruential generator is a misnomer because the transformation $x \\mapsto ax + c$ is affine and not linear, but the term _linear_ remained in use, which is why authors also use the term _mixed_ [4].\n",
    "\n",
    "In practice, different tuple values ​​are used for magic numbers [5]. In the code we will use the values ​​used in `glibc`: $m = 2^{31} = 2147483648$, $a = 1103515245$, and $c = 12345$."
   ]
  },
  {
   "cell_type": "code",
   "execution_count": 5,
   "metadata": {},
   "outputs": [],
   "source": [
    "def lcg(seed: int = 123456, size: int = 10000) -> np.ndarray:\n",
    "    \"\"\"\n",
    "    Linear Congruential Generator (LCG) for generating pseudorandom numbers in the unit interval [0, 1).\n",
    "\n",
    "    Args:\n",
    "        seed (int, optional): Seed value for the generator. Defaults to 123456.\n",
    "        size (int, optional): Number of samples to generate. Defaults to 10000.\n",
    "\n",
    "    Returns:\n",
    "        np.ndarray: Array of generated pseudorandom numbers in the interval [0, 1)\n",
    "    \"\"\"\n",
    "    m = 2147483648  # Modulus\n",
    "    a = 1103515245  # Multiplier\n",
    "    c = 12345       # Increment\n",
    "\n",
    "    # Define the generator function using lambda\n",
    "    f = lambda x: (a * x + c) % m\n",
    "\n",
    "    samples = []\n",
    "    current_seed = seed  # Initialize the seed value\n",
    "    for _ in range(size):\n",
    "        current_seed = f(current_seed)\n",
    "        normalized_value = current_seed / m  # Normalize to the interval [0, 1)\n",
    "        samples.append(normalized_value)\n",
    "\n",
    "    return np.asarray(samples)\n",
    "\n",
    "# Generate pseudorandom numbers using LCG\n",
    "samples = lcg()"
   ]
  },
  {
   "cell_type": "code",
   "execution_count": 6,
   "metadata": {},
   "outputs": [
    {
     "data": {
      "image/png": "[encoded data removed]",
      "text/plain": [
       "<Figure size 800x600 with 1 Axes>"
      ]
     },
     "metadata": {},
     "output_type": "display_data"
    }
   ],
   "source": [
    "# Plot a histogram of the generated samples\n",
    "plt.figure(figsize=(8, 6))\n",
    "plt.hist(samples, bins=20, density=True, alpha=0.75, color='blue')\n",
    "plt.title('Histogram of LCG Generated Samples')\n",
    "plt.xlabel('Value')\n",
    "plt.ylabel('Frequency')\n",
    "plt.grid(True)\n",
    "plt.show()"
   ]
  },
  {
   "cell_type": "code",
   "execution_count": null,
   "metadata": {},
   "outputs": [],
   "source": []
  }
 ],
 "metadata": {
  "kernelspec": {
   "display_name": "base",
   "language": "python",
   "name": "python3"
  },
  "language_info": {
   "codemirror_mode": {
    "name": "ipython",
    "version": 3
   },
   "file_extension": ".py",
   "mimetype": "text/x-python",
   "name": "python",
   "nbconvert_exporter": "python",
   "pygments_lexer": "ipython3",
   "version": "3.11.5"
  }
 },
 "nbformat": 4,
 "nbformat_minor": 2
}
